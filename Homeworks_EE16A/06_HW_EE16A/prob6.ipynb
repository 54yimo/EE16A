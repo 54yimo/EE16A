{
 "cells": [
  {
   "cell_type": "markdown",
   "metadata": {},
   "source": [
    "# EE16A: Homework 6"
   ]
  },
  {
   "cell_type": "markdown",
   "metadata": {},
   "source": [
    "# Problem 1: Circuit Analysis"
   ]
  },
  {
   "cell_type": "markdown",
   "metadata": {},
   "source": [
    "Run the following block of code first to get all the dependencies."
   ]
  },
  {
   "cell_type": "code",
   "execution_count": 1,
   "metadata": {},
   "outputs": [],
   "source": [
    "import numpy as np"
   ]
  },
  {
   "cell_type": "markdown",
   "metadata": {},
   "source": [
    "## Solving for voltages and currents"
   ]
  },
  {
   "cell_type": "code",
   "execution_count": 17,
   "metadata": {},
   "outputs": [
    {
     "name": "stdout",
     "output_type": "stream",
     "text": [
      "[1.70967742 1.64516129 0.67741935 0.74193548 0.06451613 2.38709677\n",
      " 5.         3.29032258 2.96774194]\n"
     ]
    }
   ],
   "source": [
    "Vs=5\n",
    "R1=1\n",
    "R2=2\n",
    "R3=3\n",
    "R4=4\n",
    "R5=5\n",
    "\n",
    "A = np.array([\n",
    "    [1, -1, 0, 0, -1, 0, 0, 0, 0],\n",
    "    [0, 0, 1, -1, 1, 0, 0, 0, 0],\n",
    "    [0, 1, 0, 1, 0, -1, 0, 0, 0],\n",
    "    [0, 0, 0, 0, 0, 0, 1, 0, 0],\n",
    "    [R1, 0, 0, 0, 0, 0, -1, 1, 0],\n",
    "    [0, R2, 0, 0, 0, 0, 0, -1, 0],\n",
    "    [0, 0, R3, 0, 0, 0, -1, 0, 1],\n",
    "    [0, 0, 0, R4, 0, 0, 0, 0, -1],\n",
    "    [0, 0, 0, 0, R5, 0, 0, -1, 1]\n",
    "])\n",
    "\n",
    "B = np.array([0, 0, 0, Vs, 0, 0, 0, 0, 0])\n",
    "\n",
    "x = np.linalg.solve(A, B)\n",
    "print(x)"
   ]
  },
  {
   "cell_type": "code",
   "execution_count": null,
   "metadata": {},
   "outputs": [],
   "source": []
  }
 ],
 "metadata": {
  "anaconda-cloud": {},
  "kernelspec": {
   "display_name": "Python 3",
   "language": "python",
   "name": "python3"
  },
  "language_info": {
   "codemirror_mode": {
    "name": "ipython",
    "version": 3
   },
   "file_extension": ".py",
   "mimetype": "text/x-python",
   "name": "python",
   "nbconvert_exporter": "python",
   "pygments_lexer": "ipython3",
   "version": "3.6.5"
  },
  "name": "graphs_for_SOE.ipynb"
 },
 "nbformat": 4,
 "nbformat_minor": 1
}
