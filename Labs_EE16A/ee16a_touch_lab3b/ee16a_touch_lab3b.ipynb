{
 "cells": [
  {
   "cell_type": "markdown",
   "metadata": {},
   "source": [
    "# Touchscreen Lab 3B: Capacitive Touchscreen $-$ Processing and Actuation\n",
    "\n",
    "### EECS 16A: Designing Information Devices and Systems I, Fall 2018"
   ]
  },
  {
   "cell_type": "markdown",
   "metadata": {},
   "source": [
    "**Name 1**:\n",
    "\n",
    "**Login**: ee16a-\n",
    "\n",
    "\n",
    "**Name 2**:\n",
    "\n",
    "**Login**: ee16a-"
   ]
  },
  {
   "cell_type": "markdown",
   "metadata": {},
   "source": [
    "## Table of Contents\n",
    "* [Introduction](#overview)\n",
    "* [Task 1: Processing Block - Integrator](#task1)\n",
    "    * [Task 1a: Understanding the Integrator Circuit](#task1a)\n",
    "    * [Task 1b: Building the Integrator Circuit](#task1b)\n",
    "    * [Task 1c: Testing the Integrator Circuit](#task1c)\n",
    "* [Task 2: Processing Block - Comparator](#task2)\n",
    "    * [Task 2a: Understanding the Comparator Circuit](#task2a)\n",
    "    * [Task 2b: Building the Comparator Circuit](#task2b)\n",
    "    * [Task 2c: Testing the Comparator Circuit](#task2c)\n",
    "* [Task 3: Actuation Block - LED](#task3)"
   ]
  },
  {
   "cell_type": "markdown",
   "metadata": {},
   "source": [
    "## Instructions\n",
    "* Complete this lab by filling in all of the required sections, marked with `\"YOUR CODE HERE\"` or `\"YOUR COMMENTS HERE\"`.\n",
    "* When you finish, submit a checkoff request to the Remote Checkoff System. Be ready to answer a few questions to show your understanding of each section.\n",
    "* Labs will be graded based on completion for teams."
   ]
  },
  {
   "cell_type": "markdown",
   "metadata": {},
   "source": [
    "<a id='policies'></a>\n",
    "## Lab Policies\n",
    "* YOU MUST ATTEND THE LAB SECTION YOU ARE ENROLLED IN. If you anticipate missing a section please notify your GSI in advance.\n",
    "* You are required to return all parts checked out at the beginning of the lab section unless told otherwise.\n",
    "* You are free to stay for the allotted time and hack around with the lab equipment, but please keep the GSI's time in mind and do not work on unrelated assignments.\n",
    "* ** Food and drinks are not allowed in the lab.**\n",
    "* **Clean up, turn off all equipment, and log off of computers before leaving.**"
   ]
  },
  {
   "cell_type": "markdown",
   "metadata": {},
   "source": [
    "<a id='overview'></a>\n",
    "\n",
    "# <span style=\"color:blue\">Introduction</span>\n",
    "\n",
    "Recall form Touchscreen Lab 3A - most electronic systems perform 3 major tasks: (1) Sense, (2) Process, and (3) Actuate. We have already built the sensing block where a touchpad is used to transduce physical quantities (i.e. touch) to electrical signals (i.e. voltage). In Lab 3A, we used a periodic current source as the input to detect the change in capacitance. In this lab, we will instead use a period square wave voltage source instead of a periodic square wave current source. We will change the circuit to integrate the voltage signal instead of the current signal. Afterward, a comparator circuit will digitize the integrated voltage. Finanlly, an LED will be used as the actuation block to transform the electrical signal (i.e. voltage) to physical quantities (i.e. light).\n",
    "\n",
    "<br>\n",
    "\n",
    "<img src=\"img/system.png\" style=\"height:250px\"/>\n",
    "\n",
    "<br>"
   ]
  },
  {
   "cell_type": "markdown",
   "metadata": {},
   "source": [
    "**In this lab, we will work on the processing and actuation blocks. The entire circuit is shown in the image below.**\n",
    "\n",
    "<br>\n",
    "\n",
    "<img src=\"img/full_circuit.png\" style=\"height:500px\"/>\n",
    "\n",
    "<br>\n",
    "\n",
    "**Note: Circuit elements that have a diagonal arrow going through them, like $C_{pixel}$ shown above, mean that the component's value is variable. In this case, the symbol for $C_{pixel}$ is variable because it has one capacitance value when it is not being touched and another capacitance value when it is.**"
   ]
  },
  {
   "cell_type": "markdown",
   "metadata": {},
   "source": [
    "Remember that $C_{Pixel}$ is the capacitance of the entire touchscreen, with or without the finger, making a variable capacitor. In the processing block (integrator and comparator), the electrical signal is conditioned and processed. Finally, actuators (i.e. LED) are used to transform the electrical signal to physical quantities. **You will understand and build the integrator circuit in Task 1. Task 2 will focus on the comparator circuit. In Task 3, you will build the actuation circuit with a LED and finalize the entire circuit.**\n",
    "\n",
    "Let us revisit the limitations of the system we built in Touchscreen 3A. The circuit was as follows: \n",
    "\n",
    "<img src=\"img/current.jpg\" align=\"center\" style=\"height:200px\">\n",
    "\n",
    "The reality of the circuit above is that a periodic current source is incredibly difficult to make, and is not available in our lab. However, our methodology of trying to integrate a square wave signal was on the right track - we just need to shift our focus to integrating a voltage source instead of a current source. The simple single capacitor circuit does not quite do the job, so we propose a new circuit topology discussed in lecture - the integrator circuit. \n",
    "\n",
    "**<span style=\"color:red\">Recall that we measured capacitances of the touchpad with and without touch in Touchscreen Lab 3A. When we plug the touchpad on the breadboard with the op-amp, other parasitic capacitors will add up. Here is an estimation of the equivalent capacitances with and without touch. You will use the following values for the following tasks.</span>**"
   ]
  },
  {
   "cell_type": "markdown",
   "metadata": {},
   "source": [
    "| State |$C_{pixel}$ |         \n",
    "| ---|------------|\n",
    "|**No Touch**| $16pF$ |\n",
    "| **With Touch** | $60pF$ |\n",
    "\n",
    "<center>**Note**: $pF=10^{-12}F$</center>"
   ]
  },
  {
   "cell_type": "markdown",
   "metadata": {},
   "source": [
    "<a id='task1'></a>\n",
    "# <span style=\"color:blue\">Task 1: Processing Block - Integrator</span>\n",
    "\n",
    "In this section, we'll first focus on the theory of an integrator circuit, then physically wire together the system, utilizing the capacitive touch sensor (sensing the difference in capacitance) and an integrator circuit (**turning the change in capacitance into a change in voltage**).\n",
    "\n",
    "<a id='task1a'></a>\n",
    "\n",
    "## <span style=\"color:blue\">Task 1a: Understanding the Integrator Circuit</span>\n",
    "\n",
    "We were able to sense the difference in capacitance with and without fingers by the touchpad in Touchscreen Lab 3A. We used a periodic current source as the input to detect the change in capacitance. In this task, we will build the circuit to integrate the periodic voltage source to convert the change in capacitance to a change in voltage.\n",
    "\n",
    "View the schematic of the integrator circuit below:\n",
    "\n",
    "<br>\n",
    "\n",
    "<img src=\"img/integrator-graphic.gif\" align=\"center\" style=\"height:250px\">\n",
    "<center><font size=1>https://www.electronics-tutorials.ws/opamp/opamp_6.html</font></center>\n",
    "\n",
    "<br>\n",
    "\n",
    "As its name implies, the Op-amp Integrator is an operational amplifier circuit that performs the mathematical operation of Integration. That is, we can cause the output to respond to changes in the input voltage over time as the op-amp integrator produces an output voltage which is proportional to **the integral of the input voltage**.\n",
    "\n",
    "According to golden rules of an ideal op-amp, $V^+ = V^-$, which makes both $V^+=0V$ and $V^- = 0V$.\n",
    "\n",
    "Then we will operate KCL on the $V^-$ node:\n",
    "\n",
    "<h3 align=\"center\"> $I_{in}(t) = \\frac{V_{in}(t)-0}{R_{in}} = \\frac{V_{in}(t)}{R_{in}}$ </h3>\n",
    "<h3 align=\"center\"> $I_{f}(t) = I_{in}(t) = \\frac{V_{in}(t)}{R_{in}}$ </h3>\n",
    "\n",
    "According to the definition of capacitance,\n",
    "\n",
    "<h3 align=\"center\"> $I_{f}(t) = C_{pixel}\\frac{\\mathrm{d}V_{c}(t)}{\\mathrm{d}t}$ </h3>\n",
    "\n",
    "In order to get the voltage of the capacitor at any time $t$ (i.e. $V_c(t)$), integrate over a time interval $[t_0,t]$,\n",
    "\n",
    "<h3 align=\"center\"> $V_c(t) = V_c(t_0) + \\int\\limits_{t_0}^t \\frac{I_f}{C_{pixel}} \\mathrm{d}t = V_c(t_0) + \\int\\limits_{t_0}^t \\frac{V_{in}(t)}{R_{in}C_{pixel}} \\mathrm{d}t$ </h3>\n",
    "\n",
    "where $V_c(t_0)$ is the voltage of the capacitor at time $t_0$. Thus, the output voltage of the integrator at any time $t$ can be dervied as,\n",
    "\n",
    "<h3 align=\"center\"> $V_{out1}(t) = 0 - V_c(t) = -V_c(t_0) - \\int\\limits_{t_0}^t \\frac{V_{in}(t)}{R_{in}C_{pixel}} \\mathrm{d}t$ </h3>\n",
    "\n",
    "If the initial condition $V_c(t_0)=0V$, the expression we get is:\n",
    "\n",
    "<h3 align=\"center\"> $V_{out1}(t) = - \\frac{1}{R_{in}C_{pixel}} \\int\\limits_{t_0}^t V_{in}(t)\\mathrm{d}t $ </h3>\n",
    "\n",
    "We will choose a square wave from the function generator as the input voltage ($V_{in}$) as shown below:\n",
    "\n",
    "<br>\n",
    "\n",
    "<center><img src=\"img/square_wave.png\" style=\"height:300px\"/></center>\n",
    "\n",
    "<br>\n",
    "\n",
    "The offset of the integrator output should be zero, so the boundary condition is \n",
    "\n",
    "<h3 align=\"center\"> $t_0 = T/4$ </h3>\n",
    "<h3 align=\"center\"> $V_c(t_0) = 0$ </h3>\n",
    "\n",
    "In following tasks, we will use a $10k\\Omega$ resistor as $R$ and set up the time period as $40 \\mu s$.\n",
    "\n",
    "<h3 align=\"center\"> $R = 10k\\Omega$ </h3>\n",
    "<h3 align=\"center\"> $T = 40\\mu s$ </h3>\n",
    "\n",
    "**You will need the Resistance, Capacitor, and Initial Voltage to for the following calculation.**\n",
    "\n",
    "**<span style=\"color:red\">Given the Touch Sensor Capacitance ($C_{pixel}$) with and without touch in [Introduction](#overview) (values copied into code for your convenience), the boundary conditions above, and the `integrate` function from last week, find the output voltage ($V_{out1}$) at time $t=T/4$, $t=T/2$, $t=3T/4$, $t=T$ and $t=5T/4$. You may read the values off of the plot.</span>**\n",
    "\n",
    "```\n",
    "def integrate(function, dt, c):\n",
    "    \"\"\"\n",
    "    Returns the trapezoidal approximation for the integral of function\n",
    "    \n",
    "    function - function to be integrated\n",
    "    dt       - time delta\n",
    "    c        - integration constant\n",
    "    \"\"\"\n",
    "```"
   ]
  },
  {
   "cell_type": "code",
   "execution_count": 1,
   "metadata": {},
   "outputs": [
    {
     "ename": "SyntaxError",
     "evalue": "invalid character in identifier (<ipython-input-1-ceb2a881f67e>, line 12)",
     "output_type": "error",
     "traceback": [
      "\u001b[0;36m  File \u001b[0;32m\"<ipython-input-1-ceb2a881f67e>\"\u001b[0;36m, line \u001b[0;32m12\u001b[0m\n\u001b[0;31m    v_no_touch = - 1 / （R_in * C) * integrate(v_in, dt, 0)\u001b[0m\n\u001b[0m                           ^\u001b[0m\n\u001b[0;31mSyntaxError\u001b[0m\u001b[0;31m:\u001b[0m invalid character in identifier\n"
     ]
    }
   ],
   "source": [
    "%run helper.py\n",
    "%matplotlib notebook \n",
    "rcParams['figure.figsize'] = 8,5\n",
    "\n",
    "R_in = 10e4\n",
    "C = 16e-12\n",
    "C_t = 60e-12\n",
    "dt = .5e-6\n",
    "v_in = gen_vin() # One period of the square wave\n",
    "\n",
    "# YOUR CODE HERE\n",
    "v_no_touch = - 1 / （R_in * C) * integrate(v_in, dt, 0)\n",
    "v_touch    = - 1 / （R_in * (C + C_t)) * integrate(v_in, dt, 0)\n",
    "# END YOUR CODE"
   ]
  },
  {
   "cell_type": "markdown",
   "metadata": {},
   "source": [
    "Run the code block below to generate the plot for the voltage across $C_{pixle}$"
   ]
  },
  {
   "cell_type": "code",
   "execution_count": null,
   "metadata": {
    "scrolled": false
   },
   "outputs": [],
   "source": [
    "# DO NOT MODIFY CODE IN THIS BLOCK\n",
    "%matplotlib notebook \n",
    "vo = v_no_touch\n",
    "vot = v_touch\n",
    "time = [dt * x / dt for x in range(0, len(v_in))]\n",
    "tmax = time[-1]\n",
    "\n",
    "fig, ax1 = plt.subplots()\n",
    "plt.title(\"Voltage vs Time\")\n",
    "plt.subplots_adjust(bottom=0.2)\n",
    "plt.grid(True)\n",
    "\n",
    "l, = plt.plot(time, vo, lw=2)\n",
    "plt.ylim(-(max(vo)*2),max(vo)*2)\n",
    "class Index(object):\n",
    "    touch = False\n",
    "    def a_touch(self, event):\n",
    "        self.touch = True\n",
    "        ydata = vot\n",
    "        l.set_ydata(ydata)\n",
    "\n",
    "        plt.draw()\n",
    "    def a_notouch(self, event):\n",
    "        self.touch = False\n",
    "        ydata = vo\n",
    "        l.set_ydata(ydata)\n",
    "        plt.draw()\n",
    "\n",
    "callback = Index()\n",
    "axtouch   = plt.axes([0.7, 0.05, 0.1, 0.075])\n",
    "axnotouch = plt.axes([0.81, 0.05, 0.1, 0.075])\n",
    "btouch = Button(axtouch, 'Touch')\n",
    "btouch.on_clicked(callback.a_touch)\n",
    "bnotouch = Button(axnotouch, 'No Touch')\n",
    "bnotouch.on_clicked(callback.a_notouch)\n",
    "ax1.set_xlabel('time')\n",
    "ax1.set_ylabel('Vout (V)', color='b')\n",
    "ax2 = ax1.twinx()\n",
    "ax2.plot(time, v_in, 'r')\n",
    "ax2.set_ylabel('Vin (V)', color='r')\n",
    "\n",
    "ax1.xaxis.set_ticks([0, tmax/4, tmax/2, 3*tmax/4, tmax])\n",
    "ax1.set_xticklabels(['T/4', 'T/2', '3T/4', 'T', '5T/4'])\n",
    "\n",
    "plt.show()"
   ]
  },
  {
   "cell_type": "markdown",
   "metadata": {},
   "source": [
    "Fill in the following table to reference later."
   ]
  },
  {
   "cell_type": "markdown",
   "metadata": {},
   "source": [
    "| $V_{out1}$ | $t=T/4$ | $t=T/2$ | $t=3T/4$ | $t=T$ | $t=5T/4$ |     \n",
    "| ---: | :------: | :------: | :------: | :------: | :------: |\n",
    "| **No Touch**|`YOUR ANSWER HERE`|`YOUR ANSWER HERE` |`YOUR ANSWER HERE`|`YOUR ANSWER HERE`|`YOUR ANSWER HERE`|\n",
    "| **With Touch**|`YOUR ANSWER HERE`|`YOUR ANSWER HERE`|`YOUR ANSWER HERE`|`YOUR ANSWER HERE`|`YOUR ANSWER HERE` |"
   ]
  },
  {
   "cell_type": "markdown",
   "metadata": {},
   "source": [
    "**In practice, however, we will need the following circuit to make the integrator work. Note that we add one $51\\Omega$ resistor in parallel with the periodic voltage source and one $1M\\Omega$ resistor in parallel with the capacitor.**\n",
    "\n",
    "<br>\n",
    "\n",
    "<center><img src=\"img/integrator_circuit.png\" style=\"height:500px\"/></center>\n",
    "\n",
    "<br>\n",
    "\n",
    "Why do we have the $51\\Omega$ resistor? To understand this, try analyzing the circuit without it. According to the golden rules, the positive terminal of the op-amp is a virtual ground. Without the  $51\\Omega$ resistor, the loading of the function generator is  $10k\\Omega$, which is large enough to actually affect the output of the function generator. With the  $51\\Omega$  resistor in the circuit, the loading (effective resistance seen by the function generator) is approximately  $50\\Omega$, and the output won't be affected much by the loading effect.\n",
    "\n",
    "What about the $1M\\Omega$ resistor in the feedback loop? Imagine the circuit without the $1M\\Omega$ resistor in equilibrium - the capacitor is fully charged, so it acts as an open circuit, so there is no longer any negative feedback, so the OpAmp is in open loop operation, making it rail to $5V$ or $-5V$ depending on its inputs. The $1M\\Omega$ resistor creates a path for negative feedback (the same topology as the inverting amplifier) to maintain the negative feedback needed for the circuit to operate."
   ]
  },
  {
   "cell_type": "markdown",
   "metadata": {},
   "source": [
    "<a id='task1b'></a>\n",
    "\n",
    "## <span style=\"color:blue\">Task 1b: Building the Integrator Circuit</span>\n",
    "Now that you know how the integrator circuit works, we will learn how to generate a square wave from the function generator and build the circuit on breadboard with the touchpad from Touchscreen Lab 3a as $C_{pixel}$.\n",
    "\n",
    "### <span style=\"color:blue\">Materials</span>\n",
    "* Breadboard - Kit\n",
    "* 1 Op-Amp Chip - GSI Desk (picture shown below)\n",
    "* Capacitive Touchpad - Touchscreen Lab 3A\n",
    "* Resistors ($51\\Omega$, $10k\\Omega$ and $1M\\Omega$) - GSI Desk\n",
    "* Wires - GSI Desk\n",
    "* Function Generator Probe - Back Wall\n",
    "* Power Supply Wires (for +25V and -25V terminals) 2 Red 2 Black - Back Wall\n",
    "* 2 Oscilloscope Wire - Back wall\n",
    "\n",
    "### <span style=\"color:blue\">Dual Op-AMP IC</span>\n",
    "To implement our integrator, we will use a dual op-amp chip. This means that a single chip contains two separate op-amps. This is important because the integrator circuit will use one of the op-amps, and the comparator circuit will use the other op-amp in the next task. For reference, we are using the LMC6482 IC chip, which **is not the one in your kit but the one at the GSI desk**.\n",
    "<br/>\n",
    "\n",
    "Pictured below is a graphic of the chip we are using as well as its pinout. Reminder, the notch should be at the top, and the pins are numbered sequentially as you go counter-clockwise around the chip. As you can see, there are two sepearte op-amps in the chip, each with their own input and output terminals. However, both op-amps share the same positive and negative supply rail voltages, labeled $V^+$ and $V^-$ in the diagram below. This will be important as we integrate all of the blocks later, as our op-amps must operate using the same voltage.<br>\n",
    "<br>\n",
    "\n",
    "<center>**Reminders: Make sure the notch on the IC chip is on top, and both op-amps share power supply voltages (but we're only using one op-amp right now).**</center>\n",
    "\n",
    "<br>\n",
    "\n",
    "<center><img src=\"img/opamp-with-chip.png\" align=\"center\" style=\"height:275px\"></center>\n",
    "\n",
    "<center><span style=\"font-size:9pt;align:center\">Additional details: http://www.ti.com/lit/ds/symlink/lmc6482.pdf</span></center>\n",
    "\n",
    "<br>\n",
    "\n",
    "**It is worth noting that the notation used for labeling the op-amps is a bit different than class, so please be careful when referring to the terminal labels. We have tried to avoid ambiguity by labeling $+/-$ terminals with only a $+$ or $-$ sign, and labeling supply voltages using words, as shown below:**\n",
    "<br>\n",
    "<br/>\n",
    "<center><font color=\"blue\">**Op-Amp IC Pin Assignments**</font></center>\n",
    "\n",
    "|**Op-Amp Label**| $+$ pin | $-$ pin | $OUT$ pin |         \n",
    "| :---: |:------------: | :---: | :---: | \n",
    "|$A$| $\\color{blue}{(3)}$ | $\\color{blue}{(2)}$ | $\\color{blue}{(1)}$ |\n",
    "|$B$| $\\color{blue}{(5)}$ | $\\color{blue}{(6)}$ | $\\color{blue}{(7)}$ |\n",
    "\n",
    "$$\\textrm{Positive Supply Voltage: }\\color{blue}{(8)}$$\n",
    "$$\\textrm{Negative Supply Voltage: }\\color{blue}{(4)}$$"
   ]
  },
  {
   "cell_type": "markdown",
   "metadata": {},
   "source": [
    "### <span style=\"color:blue\">Function Generator</span>\n",
    "To implement the square wave as the input voltage, we will use a function generator. Our function generator is a Keysight 33220A, pictured below:\n",
    "\n",
    "<br>\n",
    "\n",
    "<center><img src=\"img/33220a.jpg\" style=\"height:250px\"></center>\n",
    "\n",
    "<br>\n",
    "\n",
    "To generator a specific square wave for our circuit, please follow these directions:\n",
    "\n",
    "**1. Turn on the tool by pressing the power button, located at the bottom left corner of the tool.**\n",
    "\n",
    "**2. If the screen says \"Remote\" on the right side of the screen, press the \"Graph/Local\" button above the on/off button. The remote symbol on the right side of the screen should now be replaced with a sine wave. Once you have the sine wave on the right side of the screen, you're good to go. (FYI, this step allows us to control the tool with the buttons on the front, rather than a remote control like the computer.)**\n",
    "\n",
    "**3. Push \"Square\" button to output a square wave. The remote symbol on the right side of the screen should now shows a square wave.**\n",
    "\n",
    "**4. Push \"Freq/Period\" button (the first blue button below the screen) to adjust the period of the square wave. Now, \"Period\" should be highlighted. (If not, push the button again.) Adjust the period to $40 \\mu s$ by the number pad, knob and arrow keys.**\n",
    "\n",
    "**5. Push \"Ampl/HiLevel\" button (\"Ampl\" should be highlighted\") to check the amplitude of the wave. Make sure the amplitude is $100 mV$, which is the peak to peak value as shown on the right side of the screen.**\n",
    "\n",
    "**6. Push \"Offset/LoLevel\" button (\"Offset\" should be highlighted) to check the offset fo the wave. Make sure the offset is $0$.**\n",
    "\n",
    "**7. Now, you have finished the setup and the function generator is generating a square wave with $40 \\mu s$ period, $100 mV$ peak to peak amplitude and $0$ offset. Hook up the probe to the output line of the function generator and hit `output`.**\n"
   ]
  },
  {
   "cell_type": "markdown",
   "metadata": {},
   "source": [
    "\n",
    "### <span style=\"color:blue\">Breadboard</span>\n",
    "\n",
    "Make sure you fully understand the integrator circuit in [Task 1a](#task1a). Now we are going to translate the practical integator circuit to the breadboard. \n",
    "\n",
    "<br>\n",
    "\n",
    "<center><img src=\"img/integrator_circuit.png\" style=\"height:500px\"/></center>"
   ]
  },
  {
   "cell_type": "markdown",
   "metadata": {},
   "source": [
    "\n",
    "**<span style=\"color:red\">Part of the circuit has been translated for you as a starting point as shown in the image below. Please continue building the entire integrator circuit.</span>**\n",
    "\n",
    "<br>\n",
    "\n",
    "<center><img src=\"img/3b_bb.png\" style=\"height:600px\"></center>\n",
    "\n",
    "**You should have the following things plugged into your circuit at the end:**\n",
    "\n",
    "1. Op Amp Chip\n",
    "2. $51 \\Omega$ Resistor\n",
    "3. $10k \\Omega$ Resistor\n",
    "4. $1M \\Omega$ Resistor\n",
    "5. Capacitive Touchscreen $C_{Pixel}$\n"
   ]
  },
  {
   "cell_type": "markdown",
   "metadata": {},
   "source": [
    "<a id='task1c'></a>\n",
    "\n",
    "## <span style=\"color:blue\">Task 1c: Testing the Integrator Circuit</span>\n",
    "Now that you know how the integrator circuit works in [Task 1a](#task1a) and translated it to the breadboard in [Task 1b](#task1b), you will test the circuit and make sure it works properly in this task.\n",
    "\n",
    "**<span style=\"color:red\">Use the oscilloscope and two oscilloscope wires you obtained earlier to measure the input voltage ($V_{in}$) and the output voltage of the integrator ($V_{out1}$) at the same time. You should see a square wave ($V_{in}$) and a triangular wave ($V_{out1}$). </span>**\n",
    "\n",
    "**<span style=\"color:red\">What happens when you touch the touchpad?</span>**"
   ]
  },
  {
   "cell_type": "markdown",
   "metadata": {},
   "source": [
    "The peak value goes down, and triangles become blurrier a bit."
   ]
  },
  {
   "cell_type": "markdown",
   "metadata": {},
   "source": [
    "**<span style=\"color:red\">Please measure the following parameters of these two voltage waveforms by the measurement function on the oscilloscope. Compare your measurement with the calculation in [Task 1a](#task1a) to see how close we were able to get.</span>**\n",
    "\n",
    "To measure the maximum value of a waveform on the oscilloscope, please follow these directions:\n",
    "\n",
    "**1. Probe the oscilloscope wire at the output of the integrator to measure $V_{out1}$.**\n",
    "\n",
    "**2. Do not touch the touchpad.**\n",
    "\n",
    "**3. Push \"Autoscale\" button (top right) to autoscale the signal on the screen.**\n",
    "\n",
    "**4. Push \"Single\" button (top right) to capture a single signal without touch for measurement. You may need to push the button multiple times until you find a good signal.**\n",
    "\n",
    "**5. Push \"Meas\" button (middle) to call out the measurement function.**\n",
    "\n",
    "**6. Push \"Source\" button (first button below the screen) and select the channel that your oscilloscope wire is connected to. (If you are using channel 1, you should select source 1.)**\n",
    "\n",
    "**7. Push \"Type\" button (second button below the screen) and select \"Maximum\" to measure the maximum value of the signal.**\n",
    "\n",
    "**8. Push \"Add Measurement\" button (third button below the screen) to add the measurment onto the screen. The maximum value will be shown on the screen (bottom right). Record the value in the following table.**\n",
    "\n",
    "**9. Touch the touchpad until you finish this step. Push \"Autoscale\" and then \"Single\" button to capture a single signal with touch for measurement. You may need to push the \"Single\" button multiple times until you find a good signal.**\n",
    "\n",
    "**10. Your fingers may leave the touchpad. Record the maximum value in the following table.**"
   ]
  },
  {
   "cell_type": "markdown",
   "metadata": {},
   "source": [
    "|  | Measured $V_{out1,max}$ |\n",
    "| ---: | :------: |\n",
    "|**No Touch**| 3.05V |\n",
    "| **With Touch** | 1.08V  |"
   ]
  },
  {
   "cell_type": "markdown",
   "metadata": {},
   "source": [
    "<a id='task2'></a>\n",
    "# <span style=\"color:blue\">Task 2: Processing Block - Comparator</span>\n",
    "\n",
    "In this section, we'll first focus on the theory of a comparator circuit, and then physically wire together the system, utilizing the capacitive touch sensor (sensing the difference in capacitance), an integrator circuit (turn the change in capacitance into the change in voltage) and a comparator (**digitize the change in voltage**).\n",
    "\n",
    "<a id='task2a'></a>\n",
    "\n",
    "## <span style=\"color:blue\">Task 2a: Understanding the Comparator Circuit</span>\n",
    "\n",
    "The integrator circuit is able to turn the change in capacitance into the change in voltage. To differentiate the change in voltage, One example of this would be the comparator circuit that we covered in lecture. \n",
    "\n",
    "Operational amplifiers, or op-amps, can be used to compare two voltage values and output a desired voltage depending on the result. We will use the comparator the exact same way as we used it in Touchscreen 3A. View the schematic below:\n",
    "\n",
    "<br>\n",
    "\n",
    "<img src=\"img/comparator-graphic.gif\" align=\"center\" style=\"height:250px\">\n",
    "<center><font size=1>https://www.electronics-tutorials.ws/opamp/op-amp-comparator.html</font></center>\n",
    "\n",
    "<br>\n",
    "\n",
    "An input voltage ($V_{IN}$) is compared to a reference voltage ($V_{REF}$). If $V_{IN}$ is **greater than</font>** $V_{REF}$, the output of the op-amp ($V_{OUT}$) is the **positive supply rail voltage</font>** ($+V_{CC}$ in this particular diagram). If $V_{IN}$ is **less than** $V_{REF}$, $V_{OUT}$ is the **negative supply rail voltage** ($-V_{CC}$ in this particular diagram).\n",
    "\n",
    "The graph on the right shows that the voltage difference is a linear response with the slope dictated by the op-amp's gain. However, once the amplified voltage difference reaches a saturation point where $V_{OUT}$ becomes limited by the supply rail voltages, $+V_{CC}$ and $-V_{CC}$. The linear region output can occur if $V_{IN}$ is close in value to $V_{REF}$."
   ]
  },
  {
   "cell_type": "markdown",
   "metadata": {},
   "source": [
    "\n",
    "<img src=\"img/comparator_circuit.png\" align=\"center\" style=\"height:500px\">\n",
    "\n",
    "<br>\n",
    "\n",
    "**<span style=\"color:red\"> Based on your measured maximum output voltages ($V_{out1,max}$) of the integrator circuit from [Task 1c](#task1c) for `Touch` and `No Touch`, what would you select as your $V_{ref}$ value to detect the voltage difference with and without touch? </span>**"
   ]
  },
  {
   "cell_type": "markdown",
   "metadata": {},
   "source": [
    "$\\frac{3.05V+1.61V}{2} = 2.33V\\sim 2V$"
   ]
  },
  {
   "cell_type": "markdown",
   "metadata": {},
   "source": [
    "<a id='task2b'></a>\n",
    "\n",
    "## <span style=\"color:blue\">Task 2b: Building the Comparator Circuit</span>\n",
    "Now that you have built the integrator circuit as part of the processing block and you know how the comparator circuit works, we will then continue building the entire processing block on the breadboard.\n",
    "\n",
    "### <span style=\"color:blue\">Materials</span>\n",
    "* Breadboard - Kit\n",
    "* Integrator Circuit - Already on the Breadboard (from [Task 1b](#task1b))\n",
    "* 1 Op-Amp Chip - Already on the Breadboard (the same one for the integrator circuit)\n",
    "* Wires - GSI Desk\n",
    "* One More Power Supply Wire (for +6V terminals) 1 Red - Back Wall\n",
    "\n",
    "### <span style=\"color:blue\">Breadboard</span>\n",
    "\n",
    "Make sure you fully understand the comparator circuit in Task 2a. Now we are going to translate the circuit to the breadboard. \n",
    "\n",
    "<br>\n",
    "\n",
    "<img src=\"img/comparator_circuit.png\" align=\"center\" style=\"height:500px\">\n",
    "\n",
    "<center><img src=\"img/opamp-with-chip.png\" align=\"center\" style=\"height:150px\"></center>\n",
    "\n",
    "<center><span style=\"font-size:9pt;align:center\">Additional details: http://www.ti.com/lit/ds/symlink/lmc6482.pdf</span></center>\n",
    "\n",
    "<br>\n",
    "\n",
    "**<span style=\"color:red\">Based on the integrator circuit you built in [Task 1b](#task1b), please continue building the entire processing block circuit (i.e. integrator + comparator) as the circuit shown above.</span>**\n",
    "\n",
    "**<span style=\"color:red\">Make sure you set the $6V$ Power Supply as the $V_{ref}$ you chose in [Task 2a](#task2a)</span>**"
   ]
  },
  {
   "cell_type": "markdown",
   "metadata": {},
   "source": [
    "<a id='task2c'></a>\n",
    "\n",
    "## <span style=\"color:blue\">Task 2c: Testing the Comparator Circuit</span>\n",
    "Now that you know how the comparator circuit works in [Task 2a](#task2a) and translated it to the breadboard in [Task 2b](#task2b), you will test the circuit and make sure it works properly in this task.\n",
    "\n",
    "Use the oscilloscope and two oscilloscope wires to measure the output voltage of the integrator ($V_{out1}$) and the output voltage of the comparator ($V_{out2}$) at the same time. You should see a triangular wave ($V_{out1}$) and square wave ($V_{out2}$) without touch or a flat line with touch.\n",
    "\n",
    "**<span style=\"color:red\">What happens when you touch the touchpad?</span>**"
   ]
  },
  {
   "cell_type": "markdown",
   "metadata": {},
   "source": [
    "The peak of $V_{out1}$ goes down just like in Task 1, and $V_{out2}$ becomes a flat line."
   ]
  },
  {
   "cell_type": "markdown",
   "metadata": {},
   "source": [
    "**<span style=\"color:red\">Please measure the following parameters of these two voltage waveforms by cursors on the oscilloscope. Justify your measurement with your expectation in [Task 1a](#task1a).</span>**"
   ]
  },
  {
   "cell_type": "markdown",
   "metadata": {},
   "source": [
    "|Set $V_{ref}$| | | Measured $V_{out1,max}$ |  Measured $V_{out2,max}$ |\n",
    "|---:| :------: | :------: | :------: | :------: |\n",
    "| 2.06V | | **No Touch**| 3.01V | 5.09V |\n",
    "| | | **With Touch** | 1.57V |  110mV |"
   ]
  },
  {
   "cell_type": "markdown",
   "metadata": {},
   "source": [
    "<a id='task3'></a>\n",
    "# <span style=\"color:blue\">Task 3: Actuation Block - LED</span>\n",
    "\n",
    "In this section, we'll first add a LED as the actuation block on the circuit and physically wire together the entire system, utilizing the capacitive touch sensor (sensing the difference in capacitance), an integrator circuit (turn the change in capacitance into the change in voltage), a comparator (digitize the change in voltage) and a LED (**transform the voltage change to a physical quantity (i.e. light)**). The entire circuit is shown below.\n",
    "\n",
    "<br>\n",
    "\n",
    "<img src=\"img/full_circuit.png\" align=\"center\" style=\"height:500px\">\n",
    "\n",
    "<br>\n",
    "\n",
    "To protect the op-amp, note that we put a $330 \\Omega$ resistor in series with the LED. Without the $330 \\Omega$ resistor, the resistance of the LED is very small when the output voltage of the comparator ($V_{out2}$) is positive, so the current through the LED is huge, which may burn the LED. The $330 \\Omega$ resistor can limit the current significantly.\n",
    "\n",
    "### <span style=\"color:blue\">Materials</span>\n",
    "* Breadboard - Kit\n",
    "* Integrator Circuit - On Breadboard Already (from [Task 1b](#task1b))\n",
    "* Comparator Circuit - On Breadboard Already (from [Task 2b](#task2b))\n",
    "* One LED - Kit\n",
    "* One $330 \\Omega$ Resistor - GSI Desk\n",
    "* Wires - GSI Desk\n",
    "\n",
    "### <span style=\"color:blue\">Breadboard</span>\n",
    "\n",
    "Make sure you fully understand the entire circuit. Now we are going to add the actuation block onto the breadboard. \n",
    "\n",
    "**<span style=\"color:red\">Based on the integrator circuit you built in [Task 1b](#task1b) and the comparator circuit in [Task 2b](#task2b), please finish building the entire circuit (i.e. add the actuation block) as the circuit shown above. **The longer leg of the LED is the Positive Terminal - the Shorter Leg goes to ground.</span>**\n",
    "\n",
    "**Note: The LED is very directional - you may need to view it from directly above to see it flash**\n",
    "\n",
    "**Note 2: Even though when there is no touch, the output is periodic, if it is fast enough your eye cannot register it flashing, so it looks like it is continuously on.**\n",
    "\n",
    "**<span style=\"color:red\">What happens when you touch the touchpad?</span>**"
   ]
  },
  {
   "cell_type": "markdown",
   "metadata": {},
   "source": [
    "The LED turns off."
   ]
  },
  {
   "cell_type": "markdown",
   "metadata": {},
   "source": [
    "<a id='checkoff'></a>\n",
    "## Checkoff\n",
    "When you are ready to get checked off, please have each person in your group fill out the [Check Off Form](https://goo.gl/forms/nyH0n2enRvmNWnIo2). Follow the form exactly and submit. Your GSI or a Lab Assistant will come by once they are available and go through some checkoff questions with your group. Do not take apart your setup before being checked off.\n",
    "\n",
    "<!-- Brought to you by Yafei and Seiya -->"
   ]
  }
 ],
 "metadata": {
  "anaconda-cloud": {},
  "kernelspec": {
   "display_name": "Python 3",
   "language": "python",
   "name": "python3"
  },
  "language_info": {
   "codemirror_mode": {
    "name": "ipython",
    "version": 3
   },
   "file_extension": ".py",
   "mimetype": "text/x-python",
   "name": "python",
   "nbconvert_exporter": "python",
   "pygments_lexer": "ipython3",
   "version": "3.6.5"
  }
 },
 "nbformat": 4,
 "nbformat_minor": 1
}
