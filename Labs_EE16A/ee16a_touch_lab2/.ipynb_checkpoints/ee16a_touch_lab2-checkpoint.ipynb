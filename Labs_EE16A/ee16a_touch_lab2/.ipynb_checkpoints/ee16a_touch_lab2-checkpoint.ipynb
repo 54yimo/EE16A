{
 "cells": [
  {
   "cell_type": "markdown",
   "metadata": {},
   "source": [
    "# Touch Screen Lab 2: Resistive Touch Screen\n",
    "\n",
    "### EECS 16A: Designing Information Devices and Systems I, Fall 2018"
   ]
  },
  {
   "cell_type": "markdown",
   "metadata": {},
   "source": [
    "**Name 1**:\n",
    "\n",
    "**Login**: ee16a-\n",
    "\n",
    "\n",
    "**Name 2**:\n",
    "\n",
    "**Login**: ee16a-"
   ]
  },
  {
   "cell_type": "markdown",
   "metadata": {},
   "source": [
    "## Table of Contents\n",
    "\n",
    "* [Instructions](#instructions)\n",
    "* [Introduction](#intro1)\n",
    "* [Touch Screen Theory](#tst)\n",
    "* [Multimeter Overview](#multi)\n",
    "* [Task 1: Measuring the Top Mesh](#task1)\n",
    "* [Task 2: Adding the Top Mesh](#task2)\n",
    "* [Task 3: Testing the Circuit](#task3)\n",
    "* [Task 4: Touch Screen Processing](#task4)"
   ]
  },
  {
   "cell_type": "markdown",
   "metadata": {},
   "source": [
    "<a id='instructions'></a>\n",
    "## Instructions\n",
    "* Complete this lab by filling in all of the required sections, marked with `\"YOUR CODE HERE\"` or `\"YOUR COMMENTS HERE\"`.\n",
    "\n",
    "* When you finish notify your GSI to get checked off for this lab. Be ready to answer a few questions to show your understanding of each section.\n",
    "\n",
    "* Labs will be graded based on completion for teams of 2 students"
   ]
  },
  {
   "cell_type": "markdown",
   "metadata": {},
   "source": [
    "<a id='policies'></a>\n",
    "## Lab Policies\n",
    "* YOU MUST ATTEND THE LAB SECTION YOU ARE ENROLLED IN. If you anticipate missing a section please notify your GSI in advance.\n",
    "\n",
    "* You are required to return all parts checked out at the beginning of the lab section unless told otherwise.\n",
    "\n",
    "* You are free to stay for the full alloted time and hack around with the lab equipment, but please keep the GSI's time in mind and do not work on unrelated assignments.\n",
    "\n",
    "* ** Food and drinks are not allowed in the lab.**\n",
    "\n",
    "* **Clean up, turn off all equipment, and log off of computers before leaving.**"
   ]
  },
  {
   "cell_type": "markdown",
   "metadata": {},
   "source": [
    "<a id='intro1'></a>\n",
    "## Introduction\n",
    "In this lab you will test the resistive touchscreen you built last lab. You will also write code to process touches. \n",
    "\n",
    "Next week, we will switch gears and build a capacitive touch sensor, which will give you a better understanding of how modern touch screens, such as those found in cellphones, tablets, gaming devices, etc., are implemented.\n",
    "<br/>"
   ]
  },
  {
   "cell_type": "markdown",
   "metadata": {},
   "source": [
    "<a id='tst'></a>\n",
    "## Touchscreen Theory\n",
    "As explained on pages 39-42 in the [Electronics Course Reader](https://d1b10bmlvqabco.cloudfront.net/attach/icgvkl3p4x5m0/gyor3wfgyon205/if0gvqrkz0ue/edogs2.pdf), the basic principle behind a touch screen involves sensing changes in resistance corresponding to a user's touch input as shown below. Resistive touch screens are comprised of two conductive layers, separated by an insulating layer such as air or microbeads. When enough pressure is applied, the conductive layers touch and form a circuit called a voltage divider.\n",
    "<center>\n",
    "<img src=\"img/wk2_pen.png\" align=\"center\" style=\"height:200px\" />\n",
    "</center>\n",
    "<br/>\n",
    "\n",
    "The change in resistance is converted to a change in voltage using the voltage divider circuit introduced in lecture:\n",
    "<center>\n",
    "<img src=\"img/wk2_voltage_divider.png\" align=\"center\" style=\"height:200px\" />\n",
    "</center>\n",
    "<br/>\n",
    "Touchscreens have two main jobs: 1) detect a touch 2) determine the location of a touch with respect to a predefined origin. The first task is usually accomplished by using a [\"pull-up\" resistor](https://en.wikipedia.org/wiki/Pull-up_resistor). The second task is accomplished by taking advantage of the fact that each conductive layer reduces to a voltage divider. \n",
    "\n",
    "Each conductive layer of a touch screen is responsible for determining position in a single axis. Since we setup the touch screen so that these axes are orthogonal, we can successfully determine the Cartesian position of a touch. To detect the position of a touch along a single axis, we must apply a voltage across one conductive layer, and then use the other conductive layer to sense the voltage between the contact point and ground. After analyzing the circuit, we can determine the relationships below for touching a point along one axis of the circuit, where the \"height\" and \"width\" correspond to the number of resistors along an axis.\n",
    "<center>\n",
    "<img src=\"img/wk2_drive_sense.png\" align=\"center\" style=\"height:400px\" />\n",
    "</center>\n",
    "<br/>\n",
    "\n",
    "As shown above, we can only apply voltage across one axis (drive one axis) at a time, while sensing across the other. It is also important to note that this method requires one wire to be disconnected. We will begin by manually testing voltages using the multimeter. Afterwards, we will use the Launchpad to rapidly switch the drive and sense axes to get \"real time\" measurements of position along the X and Y axes. "
   ]
  },
  {
   "cell_type": "markdown",
   "metadata": {},
   "source": [
    "<a id='multi'></a>\n",
    "## <span style=\"color:blue\">Multimeter Overview</span>\n",
    "A multimeter is a device capable of measuring multiple properties of devices, circuits, and individual components. In this case, the [Agilent 34405A](http://cp.literature.agilent.com/litweb/pdf/34405-91000.pdf) digital multimeter available at your station can measure the following properties: voltage, current, resistance, capacitance, and continuity. The multimeter is an essential tool for \"debugging\" a circuit. All operations with a multimeter require two \"leads\" to take a measurement properly. \"Lead\" is a synonym for wire, and we usually use one red lead and one black lead (positive & negative, respectively) when taking a measurement.\n",
    "<center>\n",
    "<img src=\"img/multimeter.jpg\" align=\"center\" style=\"height:200px\" />\n",
    "</center>\n",
    "\n",
    "Below is the series of steps one should follow to take a measurement with the multimeter. Reminder that the probes are on the back wall. This is a reference; the circuit in question is **hypothetical** (for now)...\n",
    "<br/>\n",
    "\n",
    "** THIS IS A HYPOTHETICAL CIRCUIT; THERE IS NOTHING TO BUILD IN THESE STEPS** \n",
    "1. <strong>Connect a black lead to the black port on the Multimeter.</strong> This serves as your connection to the negative terminal (often ground) of the Multimeter.\n",
    "<br/><br/>\n",
    "\n",
    "2. <strong>Connect a red lead to one of the red ports on the Multimeter. <span style=\"color:red\">Every red port has a different purpose; you cannot just put the lead in any red port!</span></strong>\n",
    "The ports are each labeled with what they should be used to measure. The top right port is used to measure voltage, resistance, capacitance, or continuity. The other two red ports are used to measure current and are capable of measuring up to the value (in Amps) marked above the port (12A for the top left port, 1.2A for the bottom right port). <strong> It is critical to double check your port connections before taking a measurement, or you run the risk of damaging the equipment.</strong> The reason there are two current port options and we don't just always use the 12A port is because the 1.2A offers greater precision, but with lower max current.\n",
    "<br/><br/>\n",
    "\n",
    "3. <strong>Select the quantity you wish to measure (e.g. DC voltage, current, resistance, etc).</strong>\n",
    "Do this using the buttons on the machine: \"DC V\" for voltage, \"DC I\" for current, and \"&#8486;\" for resistance. You can confirm you are measuring the desired property by double checking the units on the display.\n",
    "<br/><br/>\n",
    "\n",
    "4. <strong> Set your measurement range.</strong> \n",
    "The easiest and quickest way to do this is to have the range auto-scale: hit the blue \"Shift\" button, and then hit the gray button above the word \"Range\" and below the word \"Auto.\" To manually adjust the range, use the Up / Down facing buttons above / below the word \"Range.\" You can see the range by looking at the number in the top right of the display.\n",
    "<br.><br/>\n",
    "\n",
    "4. <strong>Connect the multimeter to a circuit, i.e. \"probe\" the circuit.</strong>\n",
    "**Measuring voltages** across components requires that the test leads are connected to the circuit **in parallel**. In the circuit below, $V$ is the voltage measured across the resistor $R$. **Current measurements** require the test leads to be connected **in series**.  In the circuit below, $A$ is the current $i$ through the ammeter (A). To measure resistance or capacitance, connect the leads as if measuring a voltage. Use this diagram as a reference when you are ready to make a measurement.\n",
    "<br><br>\n",
    "<center>\n",
    "<img src=\"img/measurement_diagram.png\" align=\"center\" style=\"height:150px\" />\n",
    "</center>"
   ]
  },
  {
   "cell_type": "markdown",
   "metadata": {},
   "source": [
    "<a id='task1'></a>\n",
    "## <span style=\"color:blue\">Task 1: Measuring the Top Mesh</span>\n",
    "#### Materials\n",
    "* 1 Plastic Top Mesh - GSI desk\n",
    "* 2 Multimeter wires - Back wall\n",
    "</br></br>\n",
    "\n",
    "<p>Let's use your newfound knowledge of multimeters to test your top mesh to see if it is suitable for use in a resistive touchscreen. You will be using a multimeter to measure the resistance of the mesh at different points.</p>\n",
    "\n",
    "**<span style=\"color:red\">If you connected one clip from the multimeter to (0,0) and the other to (0,1), would you expect to measure a resistance?</span>**"
   ]
  },
  {
   "cell_type": "markdown",
   "metadata": {},
   "source": [
    "YOUR ANSWER HERE"
   ]
  },
  {
   "cell_type": "markdown",
   "metadata": {},
   "source": [
    "**<span style=\"color:red\">Go ahead and use the multimeter to take the resistance measurement. What is the value it reads? Is this what you expected? Why or why not?</span>**"
   ]
  },
  {
   "cell_type": "markdown",
   "metadata": {},
   "source": [
    "YOUR ANSWER HERE"
   ]
  },
  {
   "cell_type": "markdown",
   "metadata": {},
   "source": [
    "<a id='task2'></a>\n",
    "## <span style=\"color:blue\">Task 2: Adding the Top Mesh</span>\n",
    "#### Materials\n",
    "* 4x foam pieces - GSI desk\n",
    "* 1 Plastic Top Mesh - from Task 1\n",
    "* 1 Bottom mesh - completed in Touch 1\n",
    "* 2x Alligator clips with wires - completed in Touch 1\n",
    "</br></br>\n",
    "\n",
    "<p>The next step is to attach the PCB to the flexible top mesh. Commercial resistive touch screens usually separate the two layers with microscopic plastic beads; for this lab we will be using pieces of foam. </p>\n",
    "\n",
    "**<span style=\"color:red\">Follow the instructions below; read through them once before beginning.</span>**\n",
    "\n",
    "- Orient the PCB so the front is face up with (0,0) at the bottom left.\n",
    "- Stick foam cubes as in the picture below (leave at least 5mm of separation between a joint and foam block). ** You will need at least the 4 outer cubes;** add more cubes if the middle of the plastic screen sags too close to the PCB. Uncover the adhesive on the top of the foam blocks.\n",
    "\n",
    "<center>\n",
    "<img src=\"img/rts_pcb.jpg\" align=\"center\" style=\"height:300px\" />\n",
    "</center>\n",
    "<br/>\n",
    "- Orient the plastic film on top of the PCB so that the ink is facing the solder joints. **MAKE SURE THE INK SIDE IS FACING THE PCB!** You can tell which side should be facing the PCB based on how it looks and feels. The ink should feel a bit rougher and look matte. Make sure the ink is facing the PCB, or nothing will work!\n",
    "- Stick the plastic film to the foam blocks, keeping track of alignment.\n",
    "- Attach an alligator clip to following joints on the plastic mesh: (1,0) and (1,2). **The Alligator clips are only clipped onto the plastic mesh, NOT the PCB!**\n",
    "\n",
    "<center>\n",
    "<img src=\"img/rts_pcb_full.jpg\" align=\"center\" style=\"height:400px\" />\n",
    "</center>\n",
    "<br/>"
   ]
  },
  {
   "cell_type": "markdown",
   "metadata": {},
   "source": [
    "<a id='task3'></a>\n",
    "## <span style=\"color:blue\">Task 3: Testing the Circuit</span>\n",
    "\n",
    "#### Materials\n",
    "* Assembled touchscreen - soldered in last lab, completed in Task 2\n",
    "* Multimeter wires - From Task 1\n",
    "* Power supply wires - Back wall\n",
    "\n",
    "Time to test our touch screen! "
   ]
  },
  {
   "cell_type": "markdown",
   "metadata": {},
   "source": [
    "### <span style=\"color:red\">Powering the Bottom Mesh</span>\n",
    "Consider the following setup, where we will power the Bottom Mesh (aka PCB), and use the top mesh to take measurements.\n",
    "\n",
    "- 5V supplied to the PCB: Power Supply Ground to the (0,1) wire of the PCB. Power Supply +5V to the (2,1) wire of the PCB. **Make sure to limit your current!**\n",
    "\n",
    "We want to examine the voltages at the 9 different locations when the PCB is powered. For this exercise, use your knowledge of circuits to determine the expected voltages at each of the 9 touch points. **For each joint in the \"Expected Voltages on Bottom Mesh\" column in the table below, record what you think the voltage should be at that point (the voltage difference between joint (2,1) and (0,1) is +5V).** Some points maybe tricky/hard to reduce; if so, try making an educated guess.\n",
    "\n",
    "Now, actually supply power to the bottom mesh:\n",
    "- Connect the Power Supply Ground to the (0,1) wire of the PCB.\n",
    "- Connect Power Supply +5V to the (2,1) wire of the PCB. \n",
    "- Clip the negative Multimeter wire to the (0,1) wire of the PCB **(this is the same wire as the Power Supply Ground)**.\n",
    "- Clip the positive Multimeter wire to the (1,2) wire of the Top Mesh.\n",
    "**Make sure the Multimeter wires are connected to the right ports on the Multimeter!**\n",
    "\n",
    "For each of the 9 different locations, push down on the Top Mesh at that particular point, and record the output voltage of the Multimeter to 2 decimal places in the chart below. Verify that expected and measured voltages are reasonably close."
   ]
  },
  {
   "cell_type": "markdown",
   "metadata": {},
   "source": [
    "**<span style=\"color:red\">Complete the table below with the voltages measured at each joint.</span>**\n",
    "\n",
    " Calculate the expected voltages before measuring if possible. Think about the symmetry in the circuit to simplify it.\n",
    " "
   ]
  },
  {
   "cell_type": "markdown",
   "metadata": {},
   "source": [
    "|     Joint     | Expected Voltage | Measured Voltage | \n",
    "| ------------- | ---------------- | ---------------- |\n",
    "|     (0,0)     |          - Volts |          - Volts |\n",
    "|     (0,1)     |          - Volts |          - Volts |\n",
    "|     (0,2)     |          - Volts |          - Volts |\n",
    "|     (1,0)     |          - Volts |          - Volts |\n",
    "|     (1,1)     |          - Volts |          - Volts |\n",
    "|     (1,2)     |          - Volts |          - Volts |\n",
    "|     (2,0)     |          - Volts |          - Volts |\n",
    "|     (2,1)     |          - Volts |          - Volts |\n",
    "|     (2,2)     |          - Volts |          - Volts |"
   ]
  },
  {
   "cell_type": "markdown",
   "metadata": {},
   "source": [
    "**<span style=\"color:red\">Can we uniquely determine the location of a touch by only powering the Bottom Mesh?</span>**"
   ]
  },
  {
   "cell_type": "markdown",
   "metadata": {},
   "source": [
    "YOUR COMMENTS HERE"
   ]
  },
  {
   "cell_type": "markdown",
   "metadata": {},
   "source": [
    "### <span style=\"color:red\">Powering the Top Mesh</span>\n",
    "Now we will reverse the previous setup: we will power the Top Mesh, and use the Bottom Mesh to take measurements. Remember that if resistors are floating, they don't do anything and serve as conducting wire with no voltage drops.\n",
    "\n",
    "- Connect the Power Supply Ground to the (1,0) wire of the Top Mesh.\n",
    "- Connect Power Supply +5V to the (1,2) wire of the Top Mesh. \n",
    "- Clip the negative Multimeter wire to the (1, 0) wire of the Top Mesh **(this is the same wire as the Power Supply Ground)**.\n",
    "- Clip the positive Multimeter wire to the (2, 1) wire of the PCB.\n",
    "**Make sure the Multimeter wires are connected to the right ports on the Multimeter!**\n",
    "\n",
    "For this new setup, record what you expected the voltage to be at each location in the chart below. Then measure the voltage at each point with the Multimeter to confirm your calculations."
   ]
  },
  {
   "cell_type": "markdown",
   "metadata": {},
   "source": [
    "**<span style=\"color:red\">Complete the table below with the voltages measured at each joint.</span>**\n",
    "\n",
    "Calculate the expected voltages before measuring if possible. Think about the symmetry in the circuit to simplify it."
   ]
  },
  {
   "cell_type": "markdown",
   "metadata": {},
   "source": [
    "|     Joint     | Expected Voltage | Measured Voltage | \n",
    "| ------------- | ---------------- | ---------------- |\n",
    "|     (0,0)     |          - Volts |          - Volts |\n",
    "|     (0,1)     |          - Volts |          - Volts |\n",
    "|     (0,2)     |          - Volts |          - Volts |\n",
    "|     (1,0)     |          - Volts |          - Volts |\n",
    "|     (1,1)     |          - Volts |          - Volts |\n",
    "|     (1,2)     |          - Volts |          - Volts |\n",
    "|     (2,0)     |          - Volts |          - Volts |\n",
    "|     (2,1)     |          - Volts |          - Volts |\n",
    "|     (2,2)     |          - Volts |          - Volts |"
   ]
  },
  {
   "cell_type": "markdown",
   "metadata": {},
   "source": [
    "**<span style=\"color:red\">In order to sense a horizontal (x)-coordinate which mesh (top or bottom) will be driven with a voltage source, and which mesh will we measure the voltage across?</span>**"
   ]
  },
  {
   "cell_type": "markdown",
   "metadata": {},
   "source": [
    "YOUR COMMENTS HERE"
   ]
  },
  {
   "cell_type": "markdown",
   "metadata": {},
   "source": [
    "**<span style=\"color:red\">For sensing a vertical (y)-coordinate, which mesh (top or bottom) will be driven with a voltage source, and which mesh will we measure the voltage across?</span>**"
   ]
  },
  {
   "cell_type": "markdown",
   "metadata": {},
   "source": [
    "YOUR COMMENTS HERE"
   ]
  },
  {
   "cell_type": "markdown",
   "metadata": {},
   "source": [
    "<a id='task4'></a>\n",
    "## <span style=\"color:blue\">Task 4: Touchscreen Processing</span>\n",
    "Ultimately, we want to be able to determine the precise location of our finger on the screen. While reading voltages off of the multimeter is good for testing purposes, it is slow and not practical for actual usage. We will now use the Launchpad to automate this process.\n",
    "\n",
    "### Launchpad Touch Processing\n",
    "To be consistent with the diagram below, we use the following naming convention: $X_{0}$ = (0,1), $X_{pos}$ = (2,1), $Y_{0}$ = (1,0), $Y_{pos}$ = (1,2)\n",
    "<center>\n",
    "<img src=\"img/wk2_drive_sense.png\" align=\"center\" style=\"height:400px\" />\n",
    "</center>\n",
    "**<span style=\"color:red\">Use the diagram below to hookup touch screen to the Launchpad ($Y_{pos}$ -> 6.0, $X_{pos}$ -> 6.1, $X_{0}$ -> 6.2, $Y_{0}$ -> 6.3).</span>** You may find it helpful to attach the female-male jumper wires in your supply bag to the ends of each lead. The alligator clips are clipped onto the flex screen only. **If any of your pins are broken you will need to find a new Analog pin to connect to. Ask the TA to do this for you. You will also need to change the pin's name in the code!**\n",
    "<center>\n",
    "<br>\n",
    "<center style=\"font-size: 18px; font-weight: bold;\">\n",
    "<div style=\"display: inline-block; margin-left: auto; margin-right: auto;\" border=\"0\"><img style=\"height: 250px;\" src=\"img/pins.jpg\"/><div>Hookup</div></div>\n",
    "<div style=\"display: inline-block; margin-left: 100px; margin-right: auto; margin-bottom: 14px;\" border=\"0\"><img style=\"height: 250px;\" src=\"img/full_setup.jpg\"/><div>Full Setup</div></div>\n",
    "</center>"
   ]
  },
  {
   "cell_type": "markdown",
   "metadata": {},
   "source": [
    "- Upload the **'rts.ino'** file included in the lab folder to the Launchpad. 'rts.ino' is responsible for detecting a touch and then writing the raw x and raw y analog values to Serial. **MAKE SURE YOUR COM PORT IS RIGHT**\n",
    "- Run the following code block, then fill in the code the function `get_loc` below so that it will convert raw analog x/y values into touchscreen coordinates. Hint: Revisit the Touchscreen Theory section. there are some equations outlined in the diagrams that may help you figure out what to do.</span>"
   ]
  },
  {
   "cell_type": "code",
   "execution_count": null,
   "metadata": {},
   "outputs": [],
   "source": [
    "# RUN THIS BLOCK FULL OF HELPER FUNCTIONS\n",
    "import time\n",
    "import sys\n",
    "import serial\n",
    "import argparse\n",
    "from tkinter import *\n",
    "import glob\n",
    "import random\n",
    "from IPython.display import clear_output\n",
    "\n",
    "def serial_ports():\n",
    "    \"\"\"Lists serial ports\n",
    "    Raises:\n",
    "    EnvironmentError:\n",
    "        On unsupported or unknown platforms\n",
    "    Returns:\n",
    "        A list of available serial ports\n",
    "    \"\"\"\n",
    "    if sys.platform.startswith('win'):\n",
    "        ports = ['COM' + str(i + 1) for i in range(500)]\n",
    "\n",
    "    elif sys.platform.startswith('linux') or sys.platform.startswith('cygwin'):\n",
    "        # this is to exclude your current terminal \"/dev/tty\"\n",
    "        ports = glob.glob('/dev/tty[A-Za-z]*')\n",
    "\n",
    "    elif sys.platform.startswith('darwin'):\n",
    "        ports = glob.glob('/dev/tty.*')\n",
    "\n",
    "    else:\n",
    "        raise EnvironmentError('Unsupported platform')\n",
    "\n",
    "    result = []\n",
    "    for port in ports:\n",
    "        try:\n",
    "            s = serial.Serial(port)\n",
    "            s.close()\n",
    "            result.append(port)\n",
    "        except (OSError, serial.SerialException):\n",
    "            pass\n",
    "    return result\n",
    "\n",
    "def open_port(port, baud):\n",
    "    \"\"\"Open a serial port.\n",
    "    Args:\n",
    "        port (string): port to open, on Unix typically begin with '/dev/tty', on\n",
    "            or 'COM#' on Windows.\n",
    "        baud (int, optional): baud rate for serial communication\n",
    "    Raises:\n",
    "        SerialException: raised for errors from serial communication\n",
    "    Returns:\n",
    "       A pySerial object to communicate with the serial port.\n",
    "    \"\"\"\n",
    "    ser = serial.Serial()\n",
    "    try:\n",
    "        ser = serial.Serial(port, baud, timeout=10)\n",
    "        return ser\n",
    "    except serial.SerialException:\n",
    "        raise\n",
    "\n",
    "def parse_serial(ser):\n",
    "    \"\"\"Extract the raw x and y values from Serial.\n",
    "    Args:\n",
    "        ser: the serial port object.\n",
    "    Returns:\n",
    "        tuple(int x, int y): the raw x and the raw y values read in by the Launchpad.\n",
    "    \"\"\"\n",
    "    try:\n",
    "        data = ser.readline().decode().split()\n",
    "        if len(data) == 6 and data[0] == 'X' and data[3] == 'Y':\n",
    "            return (int(float(data[2])), int(float(data[5])))\n",
    "    except Exception as e:\n",
    "        quit()\n",
    "\n",
    "def start_touchscreen(baud=9600):\n",
    "    \"\"\"Continually read from serial and display touch locations.\n",
    "    Args:\n",
    "        baud: the baud rate.\n",
    "    Raises:\n",
    "        KeyboardInterrupt and TclError\n",
    "    Returns:\n",
    "        Nothing\n",
    "    \"\"\"\n",
    "    print('Touchscreen Processing Started.\\n')\n",
    "    ports = serial_ports()\n",
    "    if ports:\n",
    "        print(\"Available Ports:\")\n",
    "        for (i, p) in enumerate(ports):\n",
    "            print(\"%d) %s\" % (i + 1, p))\n",
    "    else:\n",
    "        print(\"No ports available. Check serial connection and try again.\")\n",
    "        print(\"Exiting...\")\n",
    "        quit()\n",
    "    selection = input(\"Select the port to use: \")\n",
    "    try:\n",
    "        ser = serial.Serial(ports[int(selection) - 1], baud, timeout = 3)\n",
    "        print(\"Using serial port: \", ser.port, \"\\n\")\n",
    "    except:\n",
    "        print(\"Failed to open serial port\\n\")\n",
    "        print(\"Exitting..\")\n",
    "        quit()\n",
    "    ser.flush()\n",
    "    print(\"Start Touching Points!\\n\")\n",
    "\n",
    "    while True:\n",
    "        if ser.inWaiting() > 0:\n",
    "            x_raw, y_raw = parse_serial(ser)\n",
    "            try:\n",
    "                print(\"Touch Detected: \", get_loc(x_raw, y_raw)[0], get_loc(x_raw, y_raw)[1])\n",
    "            except KeyError:\n",
    "                print(\"ERROR: Your get_loc function needs attention!\")\n",
    "                root.destroy()\n",
    "                break"
   ]
  },
  {
   "cell_type": "markdown",
   "metadata": {},
   "source": [
    "**<span style=\"color:red\">Implement `get_loc` below and run to test your implementation.</span>**"
   ]
  },
  {
   "cell_type": "code",
   "execution_count": null,
   "metadata": {
    "scrolled": false
   },
   "outputs": [],
   "source": [
    "def get_loc(x_raw, y_raw, raw_range=4096, x_range=3, y_range=3):\n",
    "    \"\"\"Convert raw x and y analog values to touchscreen locations.\n",
    "\n",
    "    Args:\n",
    "        x_raw: raw analog x value read-in by the Launchpad.\n",
    "        y_raw: raw analog y value read-in by the Launchpad.\n",
    "        raw_range: the span of the raw values (starting from 0 implied).\n",
    "        x_range: resolution of the touchscreen in the x axis.\n",
    "        y_range: resolution of the touchscreen in the y axis.\n",
    "\n",
    "    Returns:\n",
    "        tuple(x,y): x and y MUST BE INTEGERS that correspond to the (x,y) location of a touch.\n",
    "    Hint: Use int(_) to cast your numbers to integers\n",
    "    \"\"\"\n",
    "    x = # YOUR CODE HERE\n",
    "    y = # YOUR CODE HERE\n",
    "    return (x,y)\n",
    "\n",
    "start_touchscreen(baud=9600)"
   ]
  },
  {
   "cell_type": "markdown",
   "metadata": {},
   "source": [
    "## Congratulations!\n",
    "\n",
    "**You have successfully built a 3x3 resistive touchscreen using your circuits knowledge**"
   ]
  },
  {
   "cell_type": "markdown",
   "metadata": {},
   "source": [
    "<a id='checkoff'></a>\n",
    "## Checkoff\n",
    "When you are ready to get checked off, please have each person in your group fill out the [Check Off Form](https://goo.gl/forms/nyH0n2enRvmNWnIo2). Follow the form exactly and submit. Your GSI or a Lab Assistant will come by once they are available and go through some checkoff questions with your group. Do not take apart your setup before being checked off."
   ]
  }
 ],
 "metadata": {
  "anaconda-cloud": {},
  "kernelspec": {
   "display_name": "Python 3",
   "language": "python",
   "name": "python3"
  },
  "language_info": {
   "codemirror_mode": {
    "name": "ipython",
    "version": 3
   },
   "file_extension": ".py",
   "mimetype": "text/x-python",
   "name": "python",
   "nbconvert_exporter": "python",
   "pygments_lexer": "ipython3",
   "version": "3.6.5"
  }
 },
 "nbformat": 4,
 "nbformat_minor": 1
}
